{
 "cells": [
  {
   "cell_type": "code",
   "execution_count": 83,
   "metadata": {},
   "outputs": [],
   "source": [
    "# importa a biblioteca beautifulsoup e a biblioteca requests para fazer requisicoes http\n",
    "import sqlite3"
   ]
  },
  {
   "cell_type": "code",
   "execution_count": 84,
   "metadata": {},
   "outputs": [],
   "source": [
    "# Criando o banco de dado\n",
    "conexao_bd = sqlite3.connect('sgmld_sem_heranca.db')"
   ]
  },
  {
   "cell_type": "code",
   "execution_count": 85,
   "metadata": {},
   "outputs": [
    {
     "data": {
      "text/plain": [
       "<sqlite3.Cursor at 0x7f71f5b3c640>"
      ]
     },
     "execution_count": 85,
     "metadata": {},
     "output_type": "execute_result"
    }
   ],
   "source": [
    "# Criando tabela no Banco de Dados\n",
    "cursor_bd = conexao_bd.cursor()\n",
    "\n",
    "cursor_bd.execute('''CREATE TABLE LIVRO\n",
    "               (ISBN TEXT PRIMARY KEY,\n",
    "                URI_capa_livro TEXT,\n",
    "                Autor TEXT,\n",
    "                Titulo TEXT)''')\n",
    "\n",
    "cursor_bd.execute('''CREATE TABLE MATERIAL_DIDATICO\n",
    "               (ID_MAT_DIDAT INTEGER PRIMARY KEY,\n",
    "                URI_foto_material TEXT,\n",
    "                Numero_serie TEXT)''')\n",
    "\n",
    "cursor_bd.execute('''CREATE TABLE RECURSO\n",
    "               (ID INTEGER PRIMARY KEY,\n",
    "                Data_aquisicao DATE,\n",
    "                Estado_conservacao TEXT,\n",
    "                Localizacao_fisica TEXT,\n",
    "                Categoria TEXT,\n",
    "                Descricao TEXT,\n",
    "                fk_LIVRO_ISBN TEXT,\n",
    "                fk_MAT_DIDAT_ID INTEGER,\n",
    "                FOREIGN KEY (fk_LIVRO_ISBN) REFERENCES LIVRO (ISBN),\n",
    "                FOREIGN KEY (fk_MAT_DIDAT_ID) REFERENCES MATERIAL_DIDATICO (ID_MAT_DIDAT))''')\n",
    "\n",
    "cursor_bd.execute('''CREATE TABLE USUARIO\n",
    "               (ID_USER INTEGER PRIMARY KEY,\n",
    "                Nome TEXT,\n",
    "                Sobrenome TEXT,\n",
    "                Login TEXT,\n",
    "                Senha TEXT,\n",
    "                URI_foto_user TEXT,\n",
    "                Funcao TEXT)''')\n",
    "\n",
    "cursor_bd.execute('''CREATE TABLE EMPRESTIMO\n",
    "               (Data_emprestimo DATE,\n",
    "                Data_devolucao_prevista DATE,\n",
    "                Status TEXT,\n",
    "                fk_Recursos_ID_item INTEGER,\n",
    "                fk_Usuarios_ID_user INTEGER,\n",
    "                FOREIGN KEY (fk_Recursos_ID_item) REFERENCES RECURSO (ID),\n",
    "                FOREIGN KEY (fk_Usuarios_ID_user) REFERENCES USUARIO (ID_USER),  \n",
    "                PRIMARY KEY (fk_Recursos_ID_item, fk_Usuarios_ID_user))''')"
   ]
  },
  {
   "cell_type": "code",
   "execution_count": 86,
   "metadata": {},
   "outputs": [
    {
     "data": {
      "text/plain": [
       "<sqlite3.Cursor at 0x7f71f5b3c640>"
      ]
     },
     "execution_count": 86,
     "metadata": {},
     "output_type": "execute_result"
    }
   ],
   "source": [
    "#INSERINDO RECURSO NA TABELA LIVRO\n",
    "cursor_bd.execute('''INSERT INTO LIVRO\n",
    "                  (ISBN,URI_capa_livro,Autor,Titulo)\n",
    "                  VALUES\n",
    "                  (\"9781462513260\",\"\",\"BARLOW, D. H.\",\"Clinical handbook of psychological disorders: a step-by-step treatment manual\")''')\n",
    "\n",
    "cursor_bd.execute('''INSERT INTO LIVRO\n",
    "                  (ISBN, URI_capa_livro, Autor, Titulo)\n",
    "                  VALUES\n",
    "                  (\"9780132350884\", \"\", \"Gardner, H.\", \"Frames of Mind: The Theory of Multiple Intelligences\")''')\n",
    "\n",
    "cursor_bd.execute('''INSERT INTO LIVRO\n",
    "                  (ISBN, URI_capa_livro, Autor, Titulo)\n",
    "                  VALUES\n",
    "                  (\"9780061122415\", \"\", \"Gladwell, M.\", \"Blink: The Power of Thinking Without Thinking\")''')"
   ]
  },
  {
   "cell_type": "code",
   "execution_count": 87,
   "metadata": {},
   "outputs": [
    {
     "data": {
      "text/plain": [
       "<sqlite3.Cursor at 0x7f71f5b3c640>"
      ]
     },
     "execution_count": 87,
     "metadata": {},
     "output_type": "execute_result"
    }
   ],
   "source": [
    "#INSERINDO RECURSO NA TABELA MATERIAL DIDÁTICO\n",
    "cursor_bd.execute('''INSERT INTO MATERIAL_DIDATICO\n",
    "                  (ID_MAT_DIDAT, URI_foto_material, Numero_serie)\n",
    "                  VALUES\n",
    "                  (\"01\", \"\", \"MD2023-876543\")''')\n",
    "\n",
    "cursor_bd.execute('''INSERT INTO MATERIAL_DIDATICO\n",
    "                  (URI_foto_material, Numero_serie)\n",
    "                  VALUES\n",
    "                  (\"\", \"MD2023-123678\")''')\n",
    "\n",
    "cursor_bd.execute('''INSERT INTO MATERIAL_DIDATICO\n",
    "                  (URI_foto_material, Numero_serie)\n",
    "                  VALUES\n",
    "                  (\"\", \"MD2023-124578\")''')"
   ]
  },
  {
   "cell_type": "code",
   "execution_count": 88,
   "metadata": {},
   "outputs": [
    {
     "data": {
      "text/plain": [
       "<sqlite3.Cursor at 0x7f71f5b3c640>"
      ]
     },
     "execution_count": 88,
     "metadata": {},
     "output_type": "execute_result"
    }
   ],
   "source": [
    "#INSERINDO RECURSO NA TABELA RECURSO\n",
    "cursor_bd.execute('''INSERT INTO RECURSO\n",
    "                  (ID,Data_aquisicao,Estado_conservacao,Localizacao_fisica,Categoria,Descricao,fk_LIVRO_ISBN,fk_MAT_DIDAT_ID)\n",
    "                  VALUES\n",
    "                  (01,\"2023-11-02\",\"Bom\",\"E1P1\",\"Saúde\",\"\",\"9781462513260\",\"\")''')\n",
    "\n",
    "cursor_bd.execute('''INSERT INTO RECURSO\n",
    "                  (Data_aquisicao, Estado_conservacao, Localizacao_fisica, Categoria, Descricao, fk_LIVRO_ISBN, fk_MAT_DIDAT_ID)\n",
    "                  VALUES\n",
    "                  (\"2023-11-02\", \"Ótimo\", \"E2P2\", \"Educação\", \"\", \"9780132350884\", \"\")''')\n",
    "\n",
    "cursor_bd.execute('''INSERT INTO RECURSO\n",
    "                  (Data_aquisicao, Estado_conservacao, Localizacao_fisica, Categoria, Descricao, fk_LIVRO_ISBN, fk_MAT_DIDAT_ID)\n",
    "                  VALUES\n",
    "                  (\"2023-11-02\", \"Bom\", \"E1P3\", \"Autoajuda\", \"\", \"9780061122415\", \"\")''')\n",
    "\n",
    "cursor_bd.execute('''INSERT INTO RECURSO\n",
    "                  (Data_aquisicao,Estado_conservacao,Localizacao_fisica,Categoria,Descricao,fk_LIVRO_ISBN,fk_MAT_DIDAT_ID)\n",
    "                  VALUES\n",
    "                  (\"2023-11-02\",\"Bom\",\"E1P4\",\"Matemática\",\"\",\"\",\"MD2023-876543\")''')\n",
    "\n",
    "cursor_bd.execute('''INSERT INTO RECURSO\n",
    "                  (Data_aquisicao, Estado_conservacao, Localizacao_fisica, Categoria, Descricao, fk_LIVRO_ISBN, fk_MAT_DIDAT_ID)\n",
    "                  VALUES\n",
    "                  (\"2023-11-02\", \"Ruim\", \"E2P3\", \"Biologia\", \"\", \"\", \"MD2023-123678\")''')\n",
    "\n",
    "cursor_bd.execute('''INSERT INTO RECURSO\n",
    "                  (Data_aquisicao, Estado_conservacao, Localizacao_fisica, Categoria, Descricao, fk_LIVRO_ISBN, fk_MAT_DIDAT_ID)\n",
    "                  VALUES\n",
    "                  (\"2023-11-02\", \"Ruim\", \"E1P5\", \"Geografia\", \"\", \"\", \"MD2023-124578\")''')"
   ]
  },
  {
   "cell_type": "code",
   "execution_count": 89,
   "metadata": {},
   "outputs": [
    {
     "data": {
      "text/plain": [
       "<sqlite3.Cursor at 0x7f71f5b3c640>"
      ]
     },
     "execution_count": 89,
     "metadata": {},
     "output_type": "execute_result"
    }
   ],
   "source": [
    "#INSERINDO USUARIO NA TABELA USUARIO\n",
    "cursor_bd.execute('''INSERT INTO USUARIO\n",
    "                  (ID_USER,Nome,Sobrenome,Login,Senha,URI_foto_user,Funcao)\n",
    "                  VALUES\n",
    "                  (01,\"Felipe\",\"Hansen\",\"fhansen\",\"senhaHard\",\"\",\"\")''')\n",
    "cursor_bd.execute('''INSERT INTO USUARIO\n",
    "                  (Nome,Sobrenome,Login,Senha,URI_foto_user,Funcao)\n",
    "                  VALUES\n",
    "                  (\"Erick\",\"Santos\",\"ericksantos\",\"senha12345\",\"\",\"\")''')\n",
    "\n",
    "cursor_bd.execute('''INSERT INTO USUARIO\n",
    "                  (Nome,Sobrenome,Login,Senha,URI_foto_user,Funcao)\n",
    "                  VALUES\n",
    "                  (\"Maria\",\"Conceicao\",\"mariacafonso\",\"12345senha\",\"\",\"\")''')"
   ]
  },
  {
   "cell_type": "code",
   "execution_count": 90,
   "metadata": {},
   "outputs": [
    {
     "data": {
      "text/plain": [
       "<sqlite3.Cursor at 0x7f71f5b3c640>"
      ]
     },
     "execution_count": 90,
     "metadata": {},
     "output_type": "execute_result"
    }
   ],
   "source": [
    "#INSERINDO EMPRESTIMO NA TABELA EMPRESTIMO\n",
    "cursor_bd.execute('''INSERT INTO EMPRESTIMO\n",
    "                  (Data_emprestimo,Data_devolucao_prevista,Status,fk_Recursos_ID_item,fk_Usuarios_ID_user)\n",
    "                  VALUES\n",
    "                  (\"2023-11-03\",\"2023-11-08\",\"Atrasado\",\"02\",\"01\")''')\n",
    "\n",
    "cursor_bd.execute('''INSERT INTO EMPRESTIMO\n",
    "                  (Data_emprestimo,Data_devolucao_prevista,Status,fk_Recursos_ID_item,fk_Usuarios_ID_user)\n",
    "                  VALUES\n",
    "                  (\"2023-11-11\",\"2023-11-16\",\"Alugado\",\"06\",\"03\")''')\n",
    "\n",
    "cursor_bd.execute('''INSERT INTO EMPRESTIMO\n",
    "                  (Data_emprestimo,Data_devolucao_prevista,Status,fk_Recursos_ID_item,fk_Usuarios_ID_user)\n",
    "                  VALUES\n",
    "                  (\"2023-11-14\",\"2023-11-19\",\"Alugado\",\"03\",\"02\")''')"
   ]
  },
  {
   "cell_type": "code",
   "execution_count": 91,
   "metadata": {},
   "outputs": [
    {
     "name": "stdout",
     "output_type": "stream",
     "text": [
      "Tabela LIVRO:\n",
      "[('9781462513260', '', 'BARLOW, D. H.', 'Clinical handbook of psychological disorders: a step-by-step treatment manual'), ('9780132350884', '', 'Gardner, H.', 'Frames of Mind: The Theory of Multiple Intelligences'), ('9780061122415', '', 'Gladwell, M.', 'Blink: The Power of Thinking Without Thinking')]\n",
      "\n",
      "Tabela MATERIAL_DIDATICO:\n",
      "[(1, '', 'MD2023-876543'), (2, '', 'MD2023-123678'), (3, '', 'MD2023-124578')]\n",
      "\n",
      "Tabela RECURSO:\n",
      "[(1, '2023-11-02', 'Bom', 'E1P1', 'Saúde', '', '9781462513260', ''), (2, '2023-11-02', 'Ótimo', 'E2P2', 'Educação', '', '9780132350884', ''), (3, '2023-11-02', 'Bom', 'E1P3', 'Autoajuda', '', '9780061122415', ''), (4, '2023-11-02', 'Bom', 'E1P4', 'Matemática', '', '', 'MD2023-876543'), (5, '2023-11-02', 'Ruim', 'E2P3', 'Biologia', '', '', 'MD2023-123678'), (6, '2023-11-02', 'Ruim', 'E1P5', 'Geografia', '', '', 'MD2023-124578')]\n",
      "\n",
      "Tabela USUARIO:\n",
      "[(1, 'Felipe', 'Hansen', 'fhansen', 'senhaHard', '', ''), (2, 'Erick', 'Santos', 'ericksantos', 'senha12345', '', ''), (3, 'Maria', 'Conceicao', 'mariacafonso', '12345senha', '', '')]\n",
      "\n",
      "Tabela EMPRESTIMO:\n",
      "[('2023-11-03', '2023-11-08', 'Atrasado', 2, 1), ('2023-11-11', '2023-11-16', 'Alugado', 6, 3), ('2023-11-14', '2023-11-19', 'Alugado', 3, 2)]\n"
     ]
    }
   ],
   "source": [
    "# Exibir os dados da tabela LIVRO\n",
    "cursor_bd.execute(\"SELECT * FROM LIVRO\")\n",
    "dados_livro = cursor_bd.fetchall()\n",
    "print(\"Tabela LIVRO:\")\n",
    "print(dados_livro)\n",
    "\n",
    "# Exibir os dados da tabela MATERIAL_DIDATICO\n",
    "cursor_bd.execute(\"SELECT * FROM MATERIAL_DIDATICO\")\n",
    "dados_material_didatico = cursor_bd.fetchall()\n",
    "print(\"\\nTabela MATERIAL_DIDATICO:\")\n",
    "print(dados_material_didatico)\n",
    "\n",
    "# Exibir os dados da tabela RECURSO\n",
    "cursor_bd.execute(\"SELECT * FROM RECURSO\")\n",
    "dados_recurso = cursor_bd.fetchall()\n",
    "print(\"\\nTabela RECURSO:\")\n",
    "print(dados_recurso)\n",
    "\n",
    "# Exibir os dados da tabela USUARIO\n",
    "cursor_bd.execute(\"SELECT * FROM USUARIO\")\n",
    "dados_usuario = cursor_bd.fetchall()\n",
    "print(\"\\nTabela USUARIO:\")\n",
    "print(dados_usuario)\n",
    "\n",
    "# Exibir os dados da tabela EMPRESTIMO\n",
    "cursor_bd.execute(\"SELECT * FROM EMPRESTIMO\")\n",
    "dados_emprestimo = cursor_bd.fetchall()\n",
    "print(\"\\nTabela EMPRESTIMO:\")\n",
    "print(dados_emprestimo)\n",
    "\n",
    "# Fechar a conexão\n",
    "# conexao_bd.close()"
   ]
  }
 ],
 "metadata": {
  "kernelspec": {
   "display_name": "Python 3",
   "language": "python",
   "name": "python3"
  },
  "language_info": {
   "codemirror_mode": {
    "name": "ipython",
    "version": 3
   },
   "file_extension": ".py",
   "mimetype": "text/x-python",
   "name": "python",
   "nbconvert_exporter": "python",
   "pygments_lexer": "ipython3",
   "version": "3.10.12"
  },
  "orig_nbformat": 4
 },
 "nbformat": 4,
 "nbformat_minor": 2
}
