{
 "cells": [
  {
   "cell_type": "markdown",
   "metadata": {},
   "source": [
    "# Criação do banco de dados"
   ]
  },
  {
   "cell_type": "code",
   "execution_count": 1,
   "metadata": {},
   "outputs": [],
   "source": [
    "import sqlite3\n",
    "import hashlib"
   ]
  },
  {
   "cell_type": "code",
   "execution_count": 2,
   "metadata": {},
   "outputs": [],
   "source": [
    "#Conectar no Banco\n",
    "conexao_bd = sqlite3.connect('sgmld_sem_heranca_alim.db')"
   ]
  },
  {
   "cell_type": "code",
   "execution_count": 3,
   "metadata": {},
   "outputs": [
    {
     "data": {
      "text/plain": [
       "<sqlite3.Cursor at 0x2d9d186d540>"
      ]
     },
     "execution_count": 3,
     "metadata": {},
     "output_type": "execute_result"
    }
   ],
   "source": [
    "# Criando tabela no Banco de Dados\n",
    "cursor_bd = conexao_bd.cursor()\n",
    "\n",
    "cursor_bd.execute('''CREATE TABLE LIVRO\n",
    "               (ISBN TEXT PRIMARY KEY,\n",
    "                URI_capa_livro TEXT,\n",
    "                Autor TEXT,\n",
    "                Titulo TEXT)''')\n",
    "\n",
    "cursor_bd.execute('''CREATE TABLE MATERIAL_DIDATICO\n",
    "               (ID_MATERIAL_DIDATICO INTEGER PRIMARY KEY,\n",
    "                URI_foto_material TEXT,\n",
    "                Numero_serie TEXT)''')\n",
    "\n",
    "cursor_bd.execute('''CREATE TABLE RECURSO\n",
    "               (ID INTEGER PRIMARY KEY,\n",
    "                Data_aquisicao DATE,\n",
    "                Estado_conservacao TEXT,\n",
    "                Localizacao_fisica TEXT,\n",
    "                Categoria TEXT,\n",
    "                Descricao TEXT,\n",
    "                fk_LIVRO_ISBN TEXT,\n",
    "                fk_MATERIAL_DIDATICO_ID INTEGER,\n",
    "                FOREIGN KEY (fk_LIVRO_ISBN) REFERENCES LIVRO (ISBN),\n",
    "                FOREIGN KEY (fk_MATERIAL_DIDATICO_ID) REFERENCES MATERIAL_DIDATICO (ID_MATERIAL_DIDATICO))''')\n",
    "\n",
    "cursor_bd.execute('''CREATE TABLE USUARIO\n",
    "               (ID_USER INTEGER PRIMARY KEY,\n",
    "                Nome TEXT,\n",
    "                Sobrenome TEXT,\n",
    "                Login TEXT,\n",
    "                Senha TEXT,\n",
    "                URI_foto_user TEXT,\n",
    "                Funcao TEXT)''')\n",
    "\n",
    "cursor_bd.execute('''CREATE TABLE EMPRESTIMO\n",
    "               (Data_emprestimo DATE,\n",
    "                Data_devolucao_prevista DATE,\n",
    "                Status TEXT,\n",
    "                fk_Recursos_ID_item INTEGER,\n",
    "                fk_Usuarios_ID_user INTEGER,\n",
    "                FOREIGN KEY (fk_Recursos_ID_item) REFERENCES RECURSO (ID),\n",
    "                FOREIGN KEY (fk_Usuarios_ID_user) REFERENCES USUARIO (ID_USER),  \n",
    "                PRIMARY KEY (fk_Recursos_ID_item, fk_Usuarios_ID_user))''')"
   ]
  },
  {
   "cell_type": "markdown",
   "metadata": {},
   "source": [
    "# Criação da classe usuários"
   ]
  },
  {
   "cell_type": "code",
   "execution_count": 4,
   "metadata": {},
   "outputs": [],
   "source": [
    "#Criando Classe Usuario\n",
    "class Usuario:\n",
    "\n",
    "    def __init__(self, nome, sobrenome, login, senha, uri_foto_user, funcao):\n",
    "        self.id_user = None\n",
    "        self.nome = nome\n",
    "        self.sobrenome = sobrenome\n",
    "        self.login = login\n",
    "        self.senha = senha\n",
    "        self.uri_foto_user = uri_foto_user\n",
    "        self.funcao = funcao\n",
    "\n",
    "    def __str__(self):\n",
    "        return f'Nome: {self.nome} {self.sobrenome}\\nLogin: {self.login}\\nUri Foto Usuario: {self.uri_foto_user}\\nFunção: {self.funcao}'\n",
    "\n",
    "    def salvar(self):\n",
    "        \n",
    "        try:\n",
    "            conexao_bd = sqlite3.connect('sgmld_sem_heranca_alim.db')\n",
    "            cursor = conexao_bd.cursor()\n",
    "            salt = '5gz'\n",
    "            self.senha = self.senha + salt\n",
    "            hash_senha = hashlib.sha256(self.senha.encode('utf-8')).hexdigest()\n",
    "            cursor.execute(f'''INSERT INTO Usuario (Nome, Sobrenome, Login, Senha, URI_foto_user, Funcao)\n",
    "            VALUES ('{self.nome}', '{self.sobrenome}', '{self.login}', '{hash_senha}', '{self.uri_foto_user}', '{self.funcao}')''')\n",
    "            conexao_bd.commit()\n",
    "            print('Usuário cadastrado com sucesso!')\n",
    "        except Exception as error:\n",
    "            print('Erro ao cadastrar usuário!')\n",
    "            print(error)\n",
    "        finally:\n",
    "            conexao_bd.close()\n",
    "\n",
    "    def atualizar(self):\n",
    "        try:\n",
    "            conexao_bd = sqlite3.connect('sgmld_sem_heranca_alim.db')\n",
    "            cursor = conexao_bd.cursor()\n",
    "            cursor.execute(f'''UPDATE Usuario SET Nome = '{self.nome}', Sobrenome = '{self.sobrenome}', Login = '{self.login}', URI_foto_user = '{self.uri_foto_user}', Funcao = '{self.funcao}' WHERE ID_USER = {self.id_user}''')\n",
    "            conexao_bd.commit()\n",
    "            print('Usuário atualizado com sucesso!')\n",
    "        except Exception as error:\n",
    "            print('Erro ao atualizar usuário!')\n",
    "            print(error)\n",
    "        finally:    \n",
    "            conexao_bd.close()\n",
    "\n",
    "    def deletar(self, id_user):\n",
    "        try:\n",
    "            conexao_bd = sqlite3.connect('sgmld_sem_heranca_alim.db')\n",
    "            cursor = conexao_bd.cursor()\n",
    "            cursor.execute(f'''DELETE FROM Usuario WHERE ID_USER = {id_user}''')\n",
    "            conexao_bd.commit()\n",
    "            print('Usuário deletado com sucesso!')\n",
    "        except Exception as error:\n",
    "            print('Erro ao deletar usuário!')\n",
    "            print(error)\n",
    "        finally:\n",
    "            conexao_bd.close()\n",
    "\n",
    "    def buscar(login):\n",
    "        try:\n",
    "            conexao_bd = sqlite3.connect('sgmld_sem_heranca_alim.db')\n",
    "            cursor = conexao_bd.cursor()\n",
    "            cursor.execute(f'''SELECT * FROM Usuario WHERE Login = \"{login}\"''')\n",
    "            resultados = cursor.fetchall()\n",
    "            linha = resultados[0]\n",
    "            id_user = linha[0]\n",
    "            nome = linha[1]\n",
    "            sobrenome = linha[2]\n",
    "            login = linha[3]\n",
    "            senha = linha[4]\n",
    "            uri_foto_user = linha[5]\n",
    "            funcao = linha[6]\n",
    "            usuario = Usuario(nome, sobrenome, login, senha, uri_foto_user, funcao)\n",
    "            usuario.id_user = id_user\n",
    "            return usuario\n",
    "        \n",
    "        except Exception as error:\n",
    "            print('Erro ao buscar usuário!')\n",
    "            print(error)\n",
    "        finally:\n",
    "            conexao_bd.close()\n",
    "            \n",
    "\n",
    "    def set_funcao(self, funcao):\n",
    "        if funcao == 'Administrador' or funcao == 'Chefe do laboratório' or funcao == 'Membro do laboratorio':\n",
    "            self.funcao = funcao\n",
    "        else:  \n",
    "            print('Função inválida!')\n",
    "            throw('Função inválida!')\n",
    "\n",
    "    def get_funcao(self):\n",
    "        return self.funcao\n",
    "    \n",
    "\n"
   ]
  },
  {
   "cell_type": "markdown",
   "metadata": {},
   "source": [
    "# Testes da classe usuários"
   ]
  },
  {
   "cell_type": "code",
   "execution_count": 5,
   "metadata": {},
   "outputs": [],
   "source": [
    "#Criar usuário novo\n",
    "usuario1 = Usuario('João', 'Silva', 'joao.silva', '123456', 'https://www.google.com.br', 'Administrador')"
   ]
  },
  {
   "cell_type": "code",
   "execution_count": 6,
   "metadata": {},
   "outputs": [
    {
     "name": "stdout",
     "output_type": "stream",
     "text": [
      "Usuário cadastrado com sucesso!\n"
     ]
    }
   ],
   "source": [
    "#salvar usuário no banco\n",
    "usuario1.salvar()"
   ]
  },
  {
   "cell_type": "code",
   "execution_count": 7,
   "metadata": {},
   "outputs": [
    {
     "name": "stdout",
     "output_type": "stream",
     "text": [
      "Usuário atualizado com sucesso!\n"
     ]
    }
   ],
   "source": [
    "#atualizar usuário no banco\n",
    "usuario1 = Usuario.buscar('joao.silva')\n",
    "usuario1.nome = 'Tião'\n",
    "usuario1.atualizar()"
   ]
  },
  {
   "cell_type": "code",
   "execution_count": 8,
   "metadata": {},
   "outputs": [
    {
     "name": "stdout",
     "output_type": "stream",
     "text": [
      "Nome: Tião Silva\n",
      "Login: joao.silva\n",
      "Uri Foto Usuario: https://www.google.com.br\n",
      "Função: Administrador\n"
     ]
    }
   ],
   "source": [
    "#buscar usuário no banco\n",
    "usuarioPesquisado = Usuario.buscar('joao.silva')\n",
    "print(usuarioPesquisado)"
   ]
  },
  {
   "cell_type": "markdown",
   "metadata": {},
   "source": [
    "# Criação da classe recursos"
   ]
  },
  {
   "cell_type": "code",
   "execution_count": 9,
   "metadata": {},
   "outputs": [],
   "source": [
    "#Criar classe Recurso\n",
    "class Recurso:\n",
    "\n",
    "    def __init__(self, data_aquisicao, estado_conservacao, localizacao_fisica, categoria, descricao, fk_livro_isbn, fk_material_didatico_id):\n",
    "        self.id_recurso = None\n",
    "        self.data_aquisicao = data_aquisicao\n",
    "        self.estado_conservacao = estado_conservacao\n",
    "        self.localizacao_fisica = localizacao_fisica\n",
    "        self.categoria = categoria\n",
    "        self.descricao = descricao\n",
    "        self.fk_livro_isbn = fk_livro_isbn\n",
    "        self.fk_material_didatico_id = fk_material_didatico_id\n",
    "\n",
    "    def __str__(self):\n",
    "        return f'Descrição: {self.descricao}\\nCategoria: {self.categoria}\\nData de Aquisição: {self.data_aquisicao}\\nEstado de Conservação: {self.estado_conservacao}\\nLocalização Física: {self.localizacao_fisica}\\nID Material Didático: {self.fk_material_didatico_id}\\nISBN Livro: {self.fk_livro_isbn}'\n",
    "\n",
    "    def salvar(self):\n",
    "        try:\n",
    "            conexao_bd = sqlite3.connect('sgmld_sem_heranca_alim.db')\n",
    "            cursor = conexao_bd.cursor()\n",
    "            cursor.execute(f'''INSERT INTO Recurso (Data_Aquisicao, Estado_Conservacao, Localizacao_Fisica, Categoria, Descricao, FK_Livro_ISBN, FK_Material_Didatico_ID)\n",
    "            VALUES ('{self.data_aquisicao}', '{self.estado_conservacao}', '{self.localizacao_fisica}', '{self.categoria}', '{self.descricao}', '{self.fk_livro_isbn}', '{self.fk_material_didatico_id}')''')\n",
    "            conexao_bd.commit()\n",
    "            print('Recurso cadastrado com sucesso!')\n",
    "        except Exception as error:\n",
    "            print('Erro ao cadastrar recurso!')\n",
    "            print(error)\n",
    "        finally:\n",
    "            conexao_bd.close()\n",
    "\n",
    "    def atualizar(self):\n",
    "        try:\n",
    "            conexao_bd = sqlite3.connect('sgmld_sem_heranca_alim.db')\n",
    "            cursor = conexao_bd.cursor()\n",
    "            cursor.execute(f'''UPDATE Recurso SET Data_Aquisicao = '{self.data_aquisicao}', Estado_Conservacao = '{self.estado_conservacao}', Localizacao_Fisica = '{self.localizacao_fisica}', Categoria = '{self.categoria}', Descricao = '{self.descricao}', FK_Livro_ISBN = '{self.fk_livro_isbn}', FK_Material_Didatico_ID = '{self.fk_material_didatico_id}' WHERE ID = {self.id_recurso}''')\n",
    "            conexao_bd.commit()\n",
    "            print('Recurso atualizado com sucesso!')\n",
    "        except Exception as error:\n",
    "            print('Erro ao atualizar recurso!')\n",
    "            print(error)\n",
    "        finally:    \n",
    "            conexao_bd.close()\n",
    "\n",
    "    def deletar(self, id_recurso):\n",
    "        try:\n",
    "            conexao_bd = sqlite3.connect('sgmld_sem_heranca_alim.db')\n",
    "            cursor = conexao_bd.cursor()\n",
    "            cursor.execute(f'''DELETE FROM Recurso WHERE ID = {id_recurso}''')\n",
    "            conexao_bd.commit()\n",
    "            print('Recurso deletado com sucesso!')\n",
    "        except Exception as error:\n",
    "            print('Erro ao deletar recurso!')\n",
    "            print(error)\n",
    "        finally:\n",
    "            conexao_bd.close()\n",
    "\n",
    "    def buscar(fk_material_didatico_id):\n",
    "        try:\n",
    "            conexao_bd = sqlite3.connect('sgmld_sem_heranca_alim.db')\n",
    "            cursor = conexao_bd.cursor()\n",
    "            cursor.execute(f'''SELECT * FROM Recurso WHERE fk_MATERIAL_DIDATICO_id = \"{fk_material_didatico_id}\"''')\n",
    "            resultados = cursor.fetchall()\n",
    "            linha = resultados[0]\n",
    "            id_recurso = linha[0]\n",
    "            data_aquisicao = linha[1]\n",
    "            estado_conservacao = linha[2]\n",
    "            localizacao_fisica = linha[3]\n",
    "            categoria = linha[4]\n",
    "            descricao = linha[5]\n",
    "            fk_livro_isbn = linha[6]\n",
    "            fk_material_didatico_id = linha[7]\n",
    "            recurso = Recurso(data_aquisicao, estado_conservacao, localizacao_fisica, categoria, descricao, fk_livro_isbn, fk_material_didatico_id)\n",
    "            recurso.id_recurso = id_recurso\n",
    "            return recurso\n",
    "        \n",
    "        except Exception as error:\n",
    "            print('Erro ao buscar recurso!')\n",
    "            print(error)\n",
    "        finally:\n",
    "            conexao_bd.close()"
   ]
  },
  {
   "cell_type": "markdown",
   "metadata": {},
   "source": [
    "# Testes da classe recursos"
   ]
  },
  {
   "cell_type": "code",
   "execution_count": 10,
   "metadata": {},
   "outputs": [],
   "source": [
    "#Criar recurso novo\n",
    "recurso1 = Recurso(\"2023-11-02\",\"Bom\",\"E1P1\",\"Saúde\",\"livro doido\",\"\",\"0123\")"
   ]
  },
  {
   "cell_type": "code",
   "execution_count": 11,
   "metadata": {},
   "outputs": [
    {
     "name": "stdout",
     "output_type": "stream",
     "text": [
      "Recurso cadastrado com sucesso!\n"
     ]
    }
   ],
   "source": [
    "#salvar recurso no banco\n",
    "recurso1.salvar()"
   ]
  },
  {
   "cell_type": "code",
   "execution_count": 12,
   "metadata": {},
   "outputs": [
    {
     "name": "stdout",
     "output_type": "stream",
     "text": [
      "Recurso atualizado com sucesso!\n"
     ]
    }
   ],
   "source": [
    "# atualizar recurso no banco\n",
    "recurso1 = Recurso.buscar('0123')\n",
    "recurso1.categoria = 'Matemática'\n",
    "recurso1.atualizar()"
   ]
  },
  {
   "cell_type": "code",
   "execution_count": 13,
   "metadata": {},
   "outputs": [
    {
     "name": "stdout",
     "output_type": "stream",
     "text": [
      "Descrição: livro doido\n",
      "Categoria: Matemática\n",
      "Data de Aquisição: 2023-11-02\n",
      "Estado de Conservação: Bom\n",
      "Localização Física: E1P1\n",
      "ID Material Didático: 123\n",
      "ISBN Livro: \n"
     ]
    }
   ],
   "source": [
    "#buscar recurso no banco\n",
    "recursoPesquisado = Recurso.buscar('0123')\n",
    "print(recursoPesquisado)"
   ]
  },
  {
   "cell_type": "markdown",
   "metadata": {},
   "source": [
    "# Criação da classe Material Didático"
   ]
  },
  {
   "cell_type": "code",
   "execution_count": 14,
   "metadata": {},
   "outputs": [],
   "source": [
    "import sqlite3\n",
    "\n",
    "class MaterialDidatico:\n",
    "\n",
    "    def __init__(self, uri_foto_material, numero_serie):\n",
    "        self.id_material_didatico = None\n",
    "        self.uri_foto_material = uri_foto_material\n",
    "        self.numero_serie = numero_serie\n",
    "\n",
    "    def __str__(self):\n",
    "        return f'URI Foto Material: {self.uri_foto_material}\\nNúmero de Série: {self.numero_serie}'\n",
    "\n",
    "    def salvar(self):\n",
    "        try:\n",
    "            conexao_bd = sqlite3.connect('sgmld_sem_heranca_alim.db')\n",
    "            cursor = conexao_bd.cursor()\n",
    "            cursor.execute(f'''INSERT INTO Material_Didatico (URI_foto_material, Numero_serie)\n",
    "            VALUES ('{self.uri_foto_material}', '{self.numero_serie}')''')\n",
    "            conexao_bd.commit()\n",
    "            print('Material Didático cadastrado com sucesso!')\n",
    "        except Exception as error:\n",
    "            print('Erro ao cadastrar Material Didático!')\n",
    "            print(error)\n",
    "        finally:\n",
    "            conexao_bd.close()\n",
    "\n",
    "    def atualizar(self):\n",
    "        try:\n",
    "            conexao_bd = sqlite3.connect('sgmld_sem_heranca_alim.db')\n",
    "            cursor = conexao_bd.cursor()\n",
    "            cursor.execute(f'''UPDATE Material_Didatico SET URI_foto_material = '{self.uri_foto_material}', Numero_serie = '{self.numero_serie}' WHERE ID_MATERIAL_DIDATICO = {self.id_material_didatico}''')\n",
    "            conexao_bd.commit()\n",
    "            print('Material Didático atualizado com sucesso!')\n",
    "        except Exception as error:\n",
    "            print('Erro ao atualizar Material Didático!')\n",
    "            print(error)\n",
    "        finally:    \n",
    "            conexao_bd.close()\n",
    "\n",
    "    def deletar(self, id_material_didatico):\n",
    "        try:\n",
    "            conexao_bd = sqlite3.connect('sgmld_sem_heranca_alim.db')\n",
    "            cursor = conexao_bd.cursor()\n",
    "            cursor.execute(f'''DELETE FROM Material_Didatico WHERE ID_MATERIAL_DIDATICO = {id_material_didatico}''')\n",
    "            conexao_bd.commit()\n",
    "            print('Material Didático deletado com sucesso!')\n",
    "        except Exception as error:\n",
    "            print('Erro ao deletar Material Didático!')\n",
    "            print(error)\n",
    "        finally:\n",
    "            conexao_bd.close()\n",
    "\n",
    "    def buscar(numero_serie):\n",
    "        try:\n",
    "            conexao_bd = sqlite3.connect('sgmld_sem_heranca_alim.db')\n",
    "            cursor = conexao_bd.cursor()\n",
    "            cursor.execute(f'''SELECT * FROM Material_Didatico WHERE Numero_serie = \"{numero_serie}\"''')\n",
    "            resultados = cursor.fetchall()\n",
    "            linha = resultados[0]\n",
    "            id_material_didatico = linha[0]\n",
    "            uri_foto_material = linha[1]\n",
    "            numero_serie = linha[2]\n",
    "            material_didatico = MaterialDidatico(uri_foto_material, numero_serie)\n",
    "            material_didatico.id_material_didatico = id_material_didatico\n",
    "            return material_didatico\n",
    "        \n",
    "        except Exception as error:\n",
    "            print('Erro ao buscar Material Didático!')\n",
    "            print(error)\n",
    "        finally:\n",
    "            conexao_bd.close()\n"
   ]
  },
  {
   "cell_type": "markdown",
   "metadata": {},
   "source": [
    "# Testes da classe de materiais didáticos"
   ]
  },
  {
   "cell_type": "code",
   "execution_count": 15,
   "metadata": {},
   "outputs": [],
   "source": [
    "#Criar material didático novo\n",
    "material1 = MaterialDidatico(\"\", \"MD2023-876543\")"
   ]
  },
  {
   "cell_type": "code",
   "execution_count": 16,
   "metadata": {},
   "outputs": [
    {
     "name": "stdout",
     "output_type": "stream",
     "text": [
      "Material Didático cadastrado com sucesso!\n"
     ]
    }
   ],
   "source": [
    "#salvar material didático no banco\n",
    "material1.salvar()"
   ]
  },
  {
   "cell_type": "code",
   "execution_count": 17,
   "metadata": {},
   "outputs": [
    {
     "name": "stdout",
     "output_type": "stream",
     "text": [
      "Material Didático atualizado com sucesso!\n"
     ]
    }
   ],
   "source": [
    "# atualizar material didático no banco\n",
    "material1 = MaterialDidatico.buscar('MD2023-876543')\n",
    "material1.uri_foto_material = 'www.com'\n",
    "material1.atualizar()"
   ]
  },
  {
   "cell_type": "code",
   "execution_count": 18,
   "metadata": {},
   "outputs": [
    {
     "name": "stdout",
     "output_type": "stream",
     "text": [
      "URI Foto Material: www.com\n",
      "Número de Série: MD2023-876543\n"
     ]
    }
   ],
   "source": [
    "#buscar material didático no banco\n",
    "materialPesquisado = MaterialDidatico.buscar('MD2023-876543')\n",
    "print(materialPesquisado)"
   ]
  },
  {
   "cell_type": "markdown",
   "metadata": {},
   "source": [
    "# Criação da classe de Livros"
   ]
  },
  {
   "cell_type": "code",
   "execution_count": 19,
   "metadata": {},
   "outputs": [],
   "source": [
    "class Livros:\n",
    "\n",
    "    def __init__(self, isbn, autor, titulo, uri_capa_livro):\n",
    "        self.titulo = titulo\n",
    "        self.isbn = isbn\n",
    "        self.autor = autor # Devemos separar nome e sobrenome?\n",
    "        self.uri_capa_livro = uri_capa_livro\n",
    "\n",
    "    def __str__(self):\n",
    "        return f'Título: {self.titulo}\\nISBN: {self.isbn}\\nAutor: {self.autor}\\nUri Foto Usuario: {self.uri_capa_livro}\\n'\n",
    "\n",
    "    def salvar(self):\n",
    "        \n",
    "        try:\n",
    "            conexao_bd = sqlite3.connect('sgmld_sem_heranca_alim.db')\n",
    "            cursor = conexao_bd.cursor()\n",
    "            cursor.execute(f'''INSERT INTO Livro (Titulo, ISBN, Autor, URI_capa_livro)\n",
    "            VALUES ('{self.titulo}', '{self.isbn}', '{self.autor}', '{self.uri_capa_livro}')''')\n",
    "            conexao_bd.commit()\n",
    "            print('Livro cadastrado com sucesso!')\n",
    "        except Exception as error:\n",
    "            print('Erro ao cadastrar livro!')\n",
    "            print(error)\n",
    "        finally:\n",
    "            conexao_bd.close()\n",
    "            \n",
    "    def atualizar(self):\n",
    "        try:\n",
    "            conexao_bd = sqlite3.connect('sgmld_sem_heranca_alim.db')\n",
    "            cursor = conexao_bd.cursor()\n",
    "            cursor.execute(f'''UPDATE Livro SET Titulo = '{self.titulo}', ISBN = '{self.isbn}', Autor = '{self.autor}', URI_capa_livro = '{self.uri_capa_livro}' WHERE ISBN = {self.isbn}''')\n",
    "            conexao_bd.commit()\n",
    "            print('Livro atualizado com sucesso!') # colocar mais detalhes sobre o livro\n",
    "        except Exception as error:\n",
    "            print('Erro ao atualizar livro!')\n",
    "            print(error)\n",
    "        finally:    \n",
    "            conexao_bd.close()\n",
    "\n",
    "    def deletar(self, isbn): # pode acontecer um problema em deletar todos com mesmo ISBN\n",
    "        try:\n",
    "            conexao_bd = sqlite3.connect('sgmld_sem_heranca_alim.db')\n",
    "            cursor = conexao_bd.cursor()\n",
    "            cursor.execute(f'''DELETE FROM Livro WHERE ISBN = {isbn}''')\n",
    "            conexao_bd.commit()\n",
    "            print('Livro deletado com sucesso!')\n",
    "        except Exception as error:\n",
    "            print('Erro ao deletar o livro!')\n",
    "            print(error)\n",
    "        finally:\n",
    "            conexao_bd.close()\n",
    "\n",
    "    def buscar(isbn):\n",
    "        try:\n",
    "            conexao_bd = sqlite3.connect('sgmld_sem_heranca_alim.db')\n",
    "            cursor = conexao_bd.cursor()\n",
    "            cursor.execute(f'''SELECT * FROM Livro WHERE ISBN = \"{isbn}\"''')\n",
    "            resultados = cursor.fetchall()\n",
    "            linha = resultados[0]\n",
    "            cod_isbn = linha[0]\n",
    "            uri_capa_livro = linha[1]\n",
    "            autor = linha[2]\n",
    "            titulo = linha[3]\n",
    "            livro = Livros(cod_isbn, autor, titulo, uri_capa_livro)\n",
    "            livro.isbn = cod_isbn\n",
    "            return livro\n",
    "        \n",
    "        except Exception as error:\n",
    "            print('Erro ao buscar o livro!')\n",
    "            print(error)\n",
    "        finally:\n",
    "            conexao_bd.close()\n",
    "            "
   ]
  },
  {
   "cell_type": "markdown",
   "metadata": {},
   "source": [
    "# Testes da classe de Livros"
   ]
  },
  {
   "cell_type": "code",
   "execution_count": 20,
   "metadata": {},
   "outputs": [],
   "source": [
    "#Criar livro novo\n",
    "livro1 = Livros('8506086892', 'José Mauro', 'Meu Pé de Laranja Lima', 'https://www.google.com.br')"
   ]
  },
  {
   "cell_type": "code",
   "execution_count": 21,
   "metadata": {},
   "outputs": [
    {
     "name": "stdout",
     "output_type": "stream",
     "text": [
      "Livro cadastrado com sucesso!\n",
      "Título: Meu Pé de Laranja Lima\n",
      "ISBN: 8506086892\n",
      "Autor: José Mauro\n",
      "Uri Foto Usuario: https://www.google.com.br\n",
      "\n"
     ]
    }
   ],
   "source": [
    "#salvar livro no banco\n",
    "livro1.salvar()\n",
    "print(livro1)"
   ]
  },
  {
   "cell_type": "code",
   "execution_count": 22,
   "metadata": {},
   "outputs": [
    {
     "name": "stdout",
     "output_type": "stream",
     "text": [
      "Livro atualizado com sucesso!\n"
     ]
    }
   ],
   "source": [
    "#atualizar livro no banco\n",
    "livro1 = Livros.buscar('8506086892')\n",
    "livro1.titulo = 'Meu Pé de limão'\n",
    "livro1.atualizar()"
   ]
  },
  {
   "cell_type": "code",
   "execution_count": 23,
   "metadata": {},
   "outputs": [
    {
     "name": "stdout",
     "output_type": "stream",
     "text": [
      "Título: Meu Pé de limão\n",
      "ISBN: 8506086892\n",
      "Autor: José Mauro\n",
      "Uri Foto Usuario: https://www.google.com.br\n",
      "\n"
     ]
    }
   ],
   "source": [
    "#buscar livro no banco\n",
    "livro_pesquisado = Livros.buscar('8506086892')\n",
    "print(livro_pesquisado)"
   ]
  },
  {
   "cell_type": "markdown",
   "metadata": {},
   "source": [
    "# Criação da classe empréstimos"
   ]
  },
  {
   "cell_type": "code",
   "execution_count": 24,
   "metadata": {},
   "outputs": [],
   "source": [
    "class Emprestimos:\n",
    "\n",
    "    def __init__(self, data_emprestimo, data_devolucao_prevista, status, id_recurso, id_usuario):\n",
    "        self.id_emprestimo = None\n",
    "        self.data_emprestimo = data_emprestimo\n",
    "        self.data_devolucao_prevista = data_devolucao_prevista\n",
    "        self.status = status\n",
    "        self.id_recurso = id_recurso\n",
    "        self.id_usuario = id_usuario\n",
    "\n",
    "    def __str__(self):\n",
    "        return f'ID do usuário: {self.id_usuario}\\nID do recurso: {self.id_recurso}\\nStatus: {self.status}\\nData do empréstimo: {self.data_emprestimo}\\nData prevista para devolução: {self.data_devolucao_prevista}'\n",
    "\n",
    "    def salvar(self):\n",
    "        \n",
    "        try:\n",
    "            conexao_bd = sqlite3.connect('sgmld_sem_heranca_alim.db')\n",
    "            cursor = conexao_bd.cursor()\n",
    "            cursor.execute(f'''INSERT INTO Emprestimo (Data_emprestimo, Data_devolucao_prevista, Status, fk_Recursos_ID_item, fk_Usuarios_ID_user)\n",
    "            VALUES ('{self.data_emprestimo}', '{self.data_devolucao_prevista}', '{self.status}', '{self.id_recurso}', '{self.id_usuario}')''')\n",
    "            conexao_bd.commit()\n",
    "            print('Empréstimo realizado com sucesso!')\n",
    "        except Exception as error:\n",
    "            print('Erro ao realizar empréstimo!')\n",
    "            print(error)\n",
    "        finally:\n",
    "            conexao_bd.close()\n",
    "            \n",
    "    def atualizar(self):\n",
    "        try:\n",
    "            conexao_bd = sqlite3.connect('sgmld_sem_heranca_alim.db')\n",
    "            cursor = conexao_bd.cursor()\n",
    "            cursor.execute(f'''UPDATE Emprestimo SET Data_emprestimo = '{self.data_emprestimo}',\n",
    "                                                      Data_devolucao_prevista = '{self.data_devolucao_prevista}',\n",
    "                                                      Status = '{self.status}',\n",
    "                                                      fk_Recursos_ID_item = {self.id_recurso},\n",
    "                                                      fk_Usuarios_ID_user = {self.id_usuario}\n",
    "                              WHERE fk_Recursos_ID_item = {self.id_recurso} AND fk_Usuarios_ID_user = {self.id_usuario}''')\n",
    "            conexao_bd.commit()\n",
    "            print('Emprestimo atualizado com sucesso!')\n",
    "        except Exception as error:\n",
    "            print('Erro ao atualizar emprestimo!')\n",
    "            print(error)\n",
    "        finally:\n",
    "            conexao_bd.close()\n",
    "\n",
    "    def deletar(self, id_recurso, id_usuario): # pode acontecer um problema em deletar todos com mesmo ISBN\n",
    "        try:\n",
    "            conexao_bd = sqlite3.connect('sgmld_sem_heranca_alim.db')\n",
    "            cursor = conexao_bd.cursor()\n",
    "            cursor.execute(f'''DELETE FROM Emprestimo WHERE fk_Recursos_ID_item= {id_recurso} AND fk_Usuarios_ID_user={id_usuario}''')\n",
    "            conexao_bd.commit()\n",
    "            print('Emprestimo deletado com sucesso!')\n",
    "        except Exception as error:\n",
    "            print('Erro ao deletar o emprestimo!')\n",
    "            print(error)\n",
    "        finally:\n",
    "            conexao_bd.close()\n",
    "\n",
    "    def buscar(id_recurso, id_usuario):\n",
    "        try:\n",
    "            conexao_bd = sqlite3.connect('sgmld_sem_heranca_alim.db')\n",
    "            cursor = conexao_bd.cursor()\n",
    "            cursor.execute(f'''SELECT * FROM Emprestimo WHERE fk_Recursos_ID_item = {id_recurso} AND fk_Usuarios_ID_user = {id_usuario}''')\n",
    "            resultados = cursor.fetchall()\n",
    "            linha = resultados[0]\n",
    "            data_emprestimo = linha[0]\n",
    "            data_devolucao_prevista = linha[1]\n",
    "            status = linha[2]\n",
    "            id_recurso = linha[3]\n",
    "            id_usuario = linha[4]\n",
    "            emprestimo = Emprestimos(data_emprestimo, data_devolucao_prevista, status, id_recurso, id_usuario)\n",
    "            #emprestimo.id = id_recurso and id_usuario\n",
    "            return emprestimo\n",
    "        \n",
    "        except Exception as error:\n",
    "            print('Erro ao buscar o livro!')\n",
    "            print(error)\n",
    "        finally:\n",
    "            conexao_bd.close()\n",
    "            "
   ]
  },
  {
   "cell_type": "markdown",
   "metadata": {},
   "source": [
    "# Teste da classe Empréstimos"
   ]
  },
  {
   "cell_type": "code",
   "execution_count": 25,
   "metadata": {},
   "outputs": [],
   "source": [
    "\n",
    "emprestimo1 = Emprestimos('01/01/2000', '01/01/2000', 'Concluído', recurso1.id_recurso, usuario1.id_user)"
   ]
  },
  {
   "cell_type": "code",
   "execution_count": 26,
   "metadata": {},
   "outputs": [
    {
     "name": "stdout",
     "output_type": "stream",
     "text": [
      "Empréstimo realizado com sucesso!\n",
      "ID do usuário: 1\n",
      "ID do recurso: 1\n",
      "Status: Concluído\n",
      "Data do empréstimo: 01/01/2000\n",
      "Data prevista para devolução: 01/01/2000\n"
     ]
    }
   ],
   "source": [
    "#salvar emprestimo no banco\n",
    "emprestimo1.salvar()\n",
    "print(emprestimo1)"
   ]
  },
  {
   "cell_type": "code",
   "execution_count": 27,
   "metadata": {},
   "outputs": [
    {
     "name": "stdout",
     "output_type": "stream",
     "text": [
      "Emprestimo atualizado com sucesso!\n"
     ]
    }
   ],
   "source": [
    "#atualizar emprestimo no banco\n",
    "emprestimo1 = Emprestimos.buscar(recurso1.id_recurso, usuario1.id_user)\n",
    "emprestimo1.status = 'Em andamento'\n",
    "emprestimo1.atualizar()"
   ]
  },
  {
   "cell_type": "code",
   "execution_count": 28,
   "metadata": {},
   "outputs": [
    {
     "name": "stdout",
     "output_type": "stream",
     "text": [
      "ID do usuário: 1\n",
      "ID do recurso: 1\n",
      "Status: Em andamento\n",
      "Data do empréstimo: 01/01/2000\n",
      "Data prevista para devolução: 01/01/2000\n"
     ]
    }
   ],
   "source": [
    "#buscar emprestimo no banco\n",
    "emprestimo_pesquisado = Emprestimos.buscar(recurso1.id_recurso, usuario1.id_user)\n",
    "print(emprestimo_pesquisado)"
   ]
  },
  {
   "cell_type": "markdown",
   "metadata": {},
   "source": [
    "## TO-DO\n",
    "- O banco deve ser criado ao iniciar pela primeira vez. Ao executar todas as vezes, verifique se o banco existe, se existir prossiga com o código, se nao existir, crie um novo banco e prossiga.\n",
    "- Aumentar quantidade de testes.\n",
    "- Aumentar quantidade de comentários no código."
   ]
  }
 ],
 "metadata": {
  "kernelspec": {
   "display_name": "Python 3",
   "language": "python",
   "name": "python3"
  },
  "language_info": {
   "codemirror_mode": {
    "name": "ipython",
    "version": 3
   },
   "file_extension": ".py",
   "mimetype": "text/x-python",
   "name": "python",
   "nbconvert_exporter": "python",
   "pygments_lexer": "ipython3",
   "version": "3.12.0"
  }
 },
 "nbformat": 4,
 "nbformat_minor": 2
}
